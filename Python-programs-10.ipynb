{
 "cells": [
  {
   "cell_type": "markdown",
   "id": "2fc84baa",
   "metadata": {},
   "source": [
    "### 1.\tWrite a Python program to find sum of elements in list?"
   ]
  },
  {
   "cell_type": "code",
   "execution_count": 4,
   "id": "93922466",
   "metadata": {},
   "outputs": [
    {
     "name": "stdout",
     "output_type": "stream",
     "text": [
      "15\n"
     ]
    }
   ],
   "source": [
    "my_list = [1,2,3,4,5]\n",
    "\n",
    "count = 0\n",
    "for i in my_list:\n",
    "    count = count + i\n",
    "print(count)\n",
    "    "
   ]
  },
  {
   "cell_type": "markdown",
   "id": "cbf465ed",
   "metadata": {},
   "source": [
    "### 2.\tWrite a Python program to  Multiply all numbers in the list?"
   ]
  },
  {
   "cell_type": "code",
   "execution_count": 7,
   "id": "3940d610",
   "metadata": {},
   "outputs": [
    {
     "name": "stdout",
     "output_type": "stream",
     "text": [
      "120\n"
     ]
    }
   ],
   "source": [
    "my_list = [1,2,3,4,5]\n",
    "\n",
    "count = 1\n",
    "for i in my_list:\n",
    "    count = count * i\n",
    "print(count)"
   ]
  },
  {
   "cell_type": "markdown",
   "id": "1bcd2808",
   "metadata": {},
   "source": [
    "### 3.\tWrite a Python program to find smallest number in a list?"
   ]
  },
  {
   "cell_type": "code",
   "execution_count": 8,
   "id": "4ca7cc7c",
   "metadata": {},
   "outputs": [
    {
     "name": "stdout",
     "output_type": "stream",
     "text": [
      "2\n"
     ]
    }
   ],
   "source": [
    "a = [10,2,4,5,6,7]\n",
    "\n",
    "print(min(a))"
   ]
  },
  {
   "cell_type": "markdown",
   "id": "4d8aa493",
   "metadata": {},
   "source": [
    "### 4.\tWrite a Python program to find largest number in a list?"
   ]
  },
  {
   "cell_type": "code",
   "execution_count": 9,
   "id": "e03d2c5a",
   "metadata": {},
   "outputs": [
    {
     "name": "stdout",
     "output_type": "stream",
     "text": [
      "10\n"
     ]
    }
   ],
   "source": [
    "a = [10,2,4,5,6,7]\n",
    "\n",
    "print(max(a))"
   ]
  },
  {
   "cell_type": "markdown",
   "id": "43167847",
   "metadata": {},
   "source": [
    "### 5.\tWrite a Python program to find second largest number in a list?"
   ]
  },
  {
   "cell_type": "code",
   "execution_count": 13,
   "id": "ffde26b9",
   "metadata": {},
   "outputs": [
    {
     "name": "stdout",
     "output_type": "stream",
     "text": [
      "The second largest number in list is:  7\n"
     ]
    }
   ],
   "source": [
    "a = [2,7,6,4,5,2,8]\n",
    "a.sort()\n",
    "print(\"The second largest number in list is: \", a[-2])"
   ]
  },
  {
   "cell_type": "markdown",
   "id": "e50f71fd",
   "metadata": {},
   "source": [
    "### 6.\tWrite a Python program to find N largest elements from a list?"
   ]
  },
  {
   "cell_type": "code",
   "execution_count": 19,
   "id": "3472c280",
   "metadata": {},
   "outputs": [
    {
     "name": "stdout",
     "output_type": "stream",
     "text": [
      "The N largest elements from a  list is:  [900, 1000, 3579, 100000]\n"
     ]
    }
   ],
   "source": [
    "l = [1000,298,3579,100,200,-45,900,100000]\n",
    "n = 4\n",
    "l.sort()\n",
    "print(\"The N largest elements from a  list is: \", l[-n:])\n"
   ]
  },
  {
   "cell_type": "markdown",
   "id": "5d21154b",
   "metadata": {},
   "source": [
    "### 7.\tWrite a Python program to print even numbers in a list?"
   ]
  },
  {
   "cell_type": "code",
   "execution_count": 26,
   "id": "518cdf2f",
   "metadata": {},
   "outputs": [
    {
     "name": "stdout",
     "output_type": "stream",
     "text": [
      "Even number in list are: 2\n",
      "Even number in list are: 4\n",
      "Even number in list are: 8\n",
      "Even number in list are: 10\n"
     ]
    }
   ],
   "source": [
    "a = [1,2,3,4,7,8,10]\n",
    "\n",
    "for i in a:\n",
    "    if i%2==0:\n",
    "        print(\"Even number in list are:\", i)"
   ]
  },
  {
   "cell_type": "markdown",
   "id": "33ca8e1f",
   "metadata": {},
   "source": [
    "### 8.\tWrite a Python program to print odd numbers in a List?"
   ]
  },
  {
   "cell_type": "code",
   "execution_count": 27,
   "id": "abe7751b",
   "metadata": {},
   "outputs": [
    {
     "name": "stdout",
     "output_type": "stream",
     "text": [
      "Odd number in list are: 1\n",
      "Odd number in list are: 3\n",
      "Odd number in list are: 7\n"
     ]
    }
   ],
   "source": [
    "a = [1,2,3,4,7,8,10]\n",
    "\n",
    "for i in a:\n",
    "    if i%2!=0:\n",
    "        print(\"Odd number in list are:\", i)"
   ]
  },
  {
   "cell_type": "markdown",
   "id": "e0163d38",
   "metadata": {},
   "source": [
    "### 9.\tWrite a Python program to Remove empty List from List?"
   ]
  },
  {
   "cell_type": "code",
   "execution_count": 29,
   "id": "98edaf8b",
   "metadata": {},
   "outputs": [
    {
     "data": {
      "text/plain": [
       "['text', 'text2', 'moreText']"
      ]
     },
     "execution_count": 29,
     "metadata": {},
     "output_type": "execute_result"
    }
   ],
   "source": [
    "list1 = [[], [], [], [], [], 'text', 'text2', [], 'moreText']\n",
    "list2 = [i for i in list1 if i]\n",
    "list2"
   ]
  },
  {
   "cell_type": "markdown",
   "id": "2a6fa96b",
   "metadata": {},
   "source": [
    "### 10.\tWrite a Python program to Cloning or Copying a list?"
   ]
  },
  {
   "cell_type": "code",
   "execution_count": 31,
   "id": "05cad556",
   "metadata": {},
   "outputs": [
    {
     "name": "stdout",
     "output_type": "stream",
     "text": [
      "[1, 2, 3, 4, 'A']\n"
     ]
    }
   ],
   "source": [
    "a = [1,2,3,4,'A']\n",
    "b = a.copy()\n",
    "print(b)"
   ]
  },
  {
   "cell_type": "markdown",
   "id": "dc054e9f",
   "metadata": {},
   "source": [
    "### 11.\tWrite a Python program to Count occurrences of an element in a list?"
   ]
  },
  {
   "cell_type": "code",
   "execution_count": 38,
   "id": "6c5f867e",
   "metadata": {},
   "outputs": [
    {
     "name": "stdout",
     "output_type": "stream",
     "text": [
      "Element Count\n",
      "c    3\n",
      "i    3\n",
      "a    2\n",
      "h    2\n",
      "f    1\n",
      "dtype: int64\n"
     ]
    }
   ],
   "source": [
    "import pandas as pd\n",
    "l = ['a', 'a', 'c', 'c', 'c', 'f', 'h', 'h', 'i', 'i', 'i']\n",
    "count = pd.Series(l).value_counts()\n",
    "print('Element Count')\n",
    "print(count)"
   ]
  },
  {
   "cell_type": "markdown",
   "id": "41d148bc",
   "metadata": {},
   "source": [
    "###  THE END"
   ]
  }
 ],
 "metadata": {
  "kernelspec": {
   "display_name": "Python 3 (ipykernel)",
   "language": "python",
   "name": "python3"
  },
  "language_info": {
   "codemirror_mode": {
    "name": "ipython",
    "version": 3
   },
   "file_extension": ".py",
   "mimetype": "text/x-python",
   "name": "python",
   "nbconvert_exporter": "python",
   "pygments_lexer": "ipython3",
   "version": "3.9.13"
  }
 },
 "nbformat": 4,
 "nbformat_minor": 5
}
