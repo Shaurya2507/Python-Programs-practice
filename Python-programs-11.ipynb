{
 "cells": [
  {
   "cell_type": "markdown",
   "id": "006021ec",
   "metadata": {},
   "source": [
    "### 1.\tWrite a Python program to find words which are greater than given length k?"
   ]
  },
  {
   "cell_type": "code",
   "execution_count": 5,
   "id": "4bd3d883",
   "metadata": {},
   "outputs": [
    {
     "name": "stdout",
     "output_type": "stream",
     "text": [
      "['rockstar.', 'Shaurya', 'Tiwari']\n"
     ]
    }
   ],
   "source": [
    "words ='I am a rockstar. My name is Shaurya Tiwari'\n",
    "k = 4\n",
    "print([word for word in words.split() if len(word) > k ])"
   ]
  },
  {
   "cell_type": "markdown",
   "id": "e6f4cfac",
   "metadata": {},
   "source": [
    "### 2.\tWrite a Python program for removing i-th character from a string?"
   ]
  },
  {
   "cell_type": "code",
   "execution_count": 6,
   "id": "214d6664",
   "metadata": {},
   "outputs": [
    {
     "name": "stdout",
     "output_type": "stream",
     "text": [
      "The new string is: Shurya is good\n"
     ]
    }
   ],
   "source": [
    "a = 'Shaurya is good'\n",
    "\n",
    "output = ''\n",
    "\n",
    "for i in range(len(a)):\n",
    "    if i != 2:\n",
    "        output = output + a[i]\n",
    "        \n",
    "print('The new string is: ' +output)\n"
   ]
  },
  {
   "cell_type": "markdown",
   "id": "cd4d01ff",
   "metadata": {},
   "source": [
    "### 3.\tWrite a Python program to split and join a string?"
   ]
  },
  {
   "cell_type": "code",
   "execution_count": 9,
   "id": "227eaf3c",
   "metadata": {},
   "outputs": [
    {
     "name": "stdout",
     "output_type": "stream",
     "text": [
      "['Shaurya', 'is', 'a', 'rockstar']\n",
      "Shaurya-is-a-rockstar\n"
     ]
    }
   ],
   "source": [
    "s = 'Shaurya is a rockstar'\n",
    "\n",
    "print(s.split(\" \"))\n",
    "\n",
    "print('-'.join(s.split()))"
   ]
  },
  {
   "cell_type": "markdown",
   "id": "005c126c",
   "metadata": {},
   "source": [
    "### 4.\tWrite a Python to check if a given string is binary string or not"
   ]
  },
  {
   "cell_type": "code",
   "execution_count": 20,
   "id": "e80b327a",
   "metadata": {},
   "outputs": [
    {
     "name": "stdout",
     "output_type": "stream",
     "text": [
      "Enter a string101010\n",
      "101010 is a binary string\n"
     ]
    }
   ],
   "source": [
    "str=input('Enter a string')\n",
    "flag=0\n",
    "\n",
    "for char in str:\n",
    "    if char!= '0' and char!='1':\n",
    "        flag=1\n",
    "        break\n",
    "        \n",
    "if flag == 0:\n",
    "    print(str,'is a binary string')\n",
    "    \n",
    "else:\n",
    "    print(str, 'is not a binary string')"
   ]
  },
  {
   "cell_type": "markdown",
   "id": "51b0a20d",
   "metadata": {},
   "source": [
    "### 5.\tWrite a Python program to find uncommon words from two Strings?"
   ]
  },
  {
   "cell_type": "code",
   "execution_count": 3,
   "id": "fb87cd12",
   "metadata": {},
   "outputs": [
    {
     "data": {
      "text/plain": [
       "{'a', 'cricket', 'is', 'loves', 'play', 'rockstar', 'to'}"
      ]
     },
     "execution_count": 3,
     "metadata": {},
     "output_type": "execute_result"
    }
   ],
   "source": [
    "def uncommon(a,b):\n",
    "    a = a.split()\n",
    "    b = b.split()\n",
    "    c = set(a).symmetric_difference(set(b))\n",
    "    return c\n",
    "\n",
    "a = 'Shaurya is a rockstar'\n",
    "b = 'Shaurya loves to play cricket'\n",
    "\n",
    "uncommon(a,b)"
   ]
  },
  {
   "cell_type": "markdown",
   "id": "b3fce495",
   "metadata": {},
   "source": [
    "### 6.\tWrite a Python to find all duplicate characters in string?"
   ]
  },
  {
   "cell_type": "code",
   "execution_count": 4,
   "id": "868089f3",
   "metadata": {},
   "outputs": [],
   "source": [
    "def find_duplicate():\n",
    "    x = input(\"Enter a string: \")\n",
    "    for char in set(x):\n",
    "        counts = x.count(char)\n",
    "        print(char,counts)\n",
    "    "
   ]
  },
  {
   "cell_type": "code",
   "execution_count": 7,
   "id": "5a78d9b4",
   "metadata": {},
   "outputs": [
    {
     "name": "stdout",
     "output_type": "stream",
     "text": [
      "Enter a string: Shaurya\n",
      "S 1\n",
      "a 2\n",
      "y 1\n",
      "r 1\n",
      "u 1\n",
      "h 1\n"
     ]
    }
   ],
   "source": [
    "find_duplicate()"
   ]
  },
  {
   "cell_type": "markdown",
   "id": "39cf3d2c",
   "metadata": {},
   "source": [
    "### 7.\tWrite a Python Program to check if a string contains any special character?"
   ]
  },
  {
   "cell_type": "code",
   "execution_count": 8,
   "id": "e66796e2",
   "metadata": {},
   "outputs": [
    {
     "name": "stdout",
     "output_type": "stream",
     "text": [
      "Enter a string: shaurya^^\n",
      "String contains special chars\n"
     ]
    }
   ],
   "source": [
    "import re\n",
    "\n",
    "string = input('Enter a string: ')\n",
    "\n",
    "if(bool(re.search('^[a-zA-Z0-9]*$', string)) == True):\n",
    "    print(\"String does not contains special chars\")\n",
    "else:\n",
    "    print('String contains special chars')"
   ]
  },
  {
   "cell_type": "markdown",
   "id": "9a1f9014",
   "metadata": {},
   "source": [
    "###  "
   ]
  }
 ],
 "metadata": {
  "kernelspec": {
   "display_name": "Python 3 (ipykernel)",
   "language": "python",
   "name": "python3"
  },
  "language_info": {
   "codemirror_mode": {
    "name": "ipython",
    "version": 3
   },
   "file_extension": ".py",
   "mimetype": "text/x-python",
   "name": "python",
   "nbconvert_exporter": "python",
   "pygments_lexer": "ipython3",
   "version": "3.9.13"
  }
 },
 "nbformat": 4,
 "nbformat_minor": 5
}
