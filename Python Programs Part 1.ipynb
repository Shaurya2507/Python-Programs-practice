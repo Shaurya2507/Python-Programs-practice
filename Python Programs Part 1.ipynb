{
 "cells": [
  {
   "cell_type": "markdown",
   "id": "94645133",
   "metadata": {},
   "source": [
    "### 1. Write a Python program to print &quot;Hello Python&quot;?"
   ]
  },
  {
   "cell_type": "code",
   "execution_count": 1,
   "id": "3a7b403e",
   "metadata": {},
   "outputs": [
    {
     "name": "stdout",
     "output_type": "stream",
     "text": [
      "Hello World\n"
     ]
    }
   ],
   "source": [
    "a = \"Hello World\"\n",
    "print(a)"
   ]
  },
  {
   "cell_type": "markdown",
   "id": "786f483f",
   "metadata": {},
   "source": [
    "### 2. Write a Python program to do arithmetical operations addition and division.?"
   ]
  },
  {
   "cell_type": "code",
   "execution_count": 5,
   "id": "0f5520d8",
   "metadata": {},
   "outputs": [
    {
     "name": "stdout",
     "output_type": "stream",
     "text": [
      "We have added a number:  60\n",
      "10\n"
     ]
    }
   ],
   "source": [
    "a = 50\n",
    "b = 10\n",
    "\n",
    "c = a +b\n",
    "print(\"We have added a number: \",c)\n",
    "\n",
    "d = a/b\n",
    "print(b)"
   ]
  },
  {
   "cell_type": "markdown",
   "id": "73e7126f",
   "metadata": {},
   "source": [
    "### 3.\tWrite a Python program to find the area of a triangle?"
   ]
  },
  {
   "cell_type": "code",
   "execution_count": 6,
   "id": "4b5d44e7",
   "metadata": {},
   "outputs": [
    {
     "name": "stdout",
     "output_type": "stream",
     "text": [
      "612.0\n"
     ]
    }
   ],
   "source": [
    "b = 34\n",
    "h = 36\n",
    "\n",
    "Area = 1/2 * b*h\n",
    "print(Area)"
   ]
  },
  {
   "cell_type": "markdown",
   "id": "f941888f",
   "metadata": {},
   "source": [
    "### 4.\tWrite a Python program to swap two variables?"
   ]
  },
  {
   "cell_type": "code",
   "execution_count": 8,
   "id": "cf7be523",
   "metadata": {},
   "outputs": [
    {
     "name": "stdout",
     "output_type": "stream",
     "text": [
      "30\n",
      "20\n"
     ]
    }
   ],
   "source": [
    "x = 20\n",
    "y= 30\n",
    "\n",
    "x,y = y,x\n",
    "print(x)\n",
    "print(y)"
   ]
  },
  {
   "cell_type": "markdown",
   "id": "7e2da274",
   "metadata": {},
   "source": [
    "### 5.\tWrite a Python program to generate a random number?"
   ]
  },
  {
   "cell_type": "code",
   "execution_count": 15,
   "id": "4029587d",
   "metadata": {},
   "outputs": [
    {
     "name": "stdout",
     "output_type": "stream",
     "text": [
      "Enter a random number1\n",
      "[10]\n"
     ]
    }
   ],
   "source": [
    "a = []\n",
    "n = int(input('Enter a random number'))\n",
    "for i in range(n):\n",
    "    a.append(random.randint(1,20))\n",
    "print(a)\n"
   ]
  },
  {
   "cell_type": "markdown",
   "id": "7b924ede",
   "metadata": {},
   "source": [
    "## THE END"
   ]
  }
 ],
 "metadata": {
  "kernelspec": {
   "display_name": "Python 3 (ipykernel)",
   "language": "python",
   "name": "python3"
  },
  "language_info": {
   "codemirror_mode": {
    "name": "ipython",
    "version": 3
   },
   "file_extension": ".py",
   "mimetype": "text/x-python",
   "name": "python",
   "nbconvert_exporter": "python",
   "pygments_lexer": "ipython3",
   "version": "3.9.13"
  }
 },
 "nbformat": 4,
 "nbformat_minor": 5
}
