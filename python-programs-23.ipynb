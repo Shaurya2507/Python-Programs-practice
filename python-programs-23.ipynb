{
 "cells": [
  {
   "cell_type": "markdown",
   "id": "e716fa0e",
   "metadata": {},
   "source": [
    "### Question 1\n",
    "Create a function that takes a number as an argument and returns True or False depending on whether the number is symmetrical or not. A number is symmetrical when it is the same as its reverse.\n",
    "Examples\n",
    "is_symmetrical(7227) ➞ True\n",
    "\n",
    "is_symmetrical(12567) ➞ False\n",
    "\n",
    "is_symmetrical(44444444) ➞ True\n",
    "\n",
    "is_symmetrical(9939) ➞ False\n",
    "\n",
    "is_symmetrical(1112111) ➞ True\n"
   ]
  },
  {
   "cell_type": "code",
   "execution_count": 3,
   "id": "c192333d",
   "metadata": {},
   "outputs": [],
   "source": [
    "def is_symmetrical(n):\n",
    "    return str(n) == str(n)[::-1]"
   ]
  },
  {
   "cell_type": "code",
   "execution_count": 6,
   "id": "c60c6436",
   "metadata": {},
   "outputs": [
    {
     "data": {
      "text/plain": [
       "True"
      ]
     },
     "execution_count": 6,
     "metadata": {},
     "output_type": "execute_result"
    }
   ],
   "source": [
    "is_symmetrical(9999)"
   ]
  },
  {
   "cell_type": "markdown",
   "id": "dcf58927",
   "metadata": {},
   "source": [
    "### Question 2\n",
    "Given a string of numbers separated by a comma and space, return the product of the numbers.\n",
    "Examples\n",
    "multiply_nums(\"2, 3\") ➞ 6\n",
    "\n",
    "multiply_nums(\"1, 2, 3, 4\") ➞ 24\n",
    "\n",
    "multiply_nums(\"54, 75, 453, 0\") ➞ 0\n",
    "\n",
    "multiply_nums(\"10, -2\") ➞ -20\n"
   ]
  },
  {
   "cell_type": "code",
   "execution_count": 20,
   "id": "aea672a1",
   "metadata": {},
   "outputs": [],
   "source": [
    "def multiply_nums(num_str):\n",
    "    nums = [int(num) for num in num_str.split(', ')]\n",
    "    product = 1\n",
    "    for num in nums:\n",
    "        product *= num\n",
    "    return product\n",
    "    "
   ]
  },
  {
   "cell_type": "code",
   "execution_count": 32,
   "id": "0f81c5c5",
   "metadata": {},
   "outputs": [
    {
     "data": {
      "text/plain": [
       "6"
      ]
     },
     "execution_count": 32,
     "metadata": {},
     "output_type": "execute_result"
    }
   ],
   "source": [
    "multiply_nums(\"2, 3\")"
   ]
  },
  {
   "cell_type": "markdown",
   "id": "e6af2713",
   "metadata": {},
   "source": [
    "### Question 3\n",
    "Create a function that squares every digit of a number.\n",
    "Examples\n",
    "square_digits(9119) ➞ 811181\n",
    "\n",
    "square_digits(2483) ➞ 416649\n",
    "\n",
    "square_digits(3212) ➞ 9414\n",
    "Notes\n",
    "The function receives an integer and must return an integer.\n"
   ]
  },
  {
   "cell_type": "code",
   "execution_count": 35,
   "id": "6a0b53c7",
   "metadata": {},
   "outputs": [],
   "source": [
    "def square_digits(n):\n",
    "    return int(''.join([str(int(digit)**2) for digit in str(n)]))"
   ]
  },
  {
   "cell_type": "code",
   "execution_count": 5,
   "id": "cc903d16",
   "metadata": {},
   "outputs": [
    {
     "data": {
      "text/plain": [
       "416649"
      ]
     },
     "execution_count": 5,
     "metadata": {},
     "output_type": "execute_result"
    }
   ],
   "source": [
    "square_digits(2483)"
   ]
  },
  {
   "cell_type": "markdown",
   "id": "e9654f81",
   "metadata": {},
   "source": [
    "### Question 4\n",
    "Create a function that sorts a list and removes all duplicate items from it.\n",
    "Examples\n",
    "setify([1, 3, 3, 5, 5]) ➞ [1, 3, 5]\n",
    "\n",
    "setify([4, 4, 4, 4]) ➞ [4]\n",
    "\n",
    "setify([5, 7, 8, 9, 10, 15]) ➞ [5, 7, 8, 9, 10, 15]\n",
    "\n",
    "setify([3, 3, 3, 2, 1]) ➞ [1, 2, 3]\n"
   ]
  },
  {
   "cell_type": "code",
   "execution_count": 19,
   "id": "fc4531fd",
   "metadata": {},
   "outputs": [],
   "source": [
    "def setify(lst):\n",
    "    return sorted(list(set(lst)))"
   ]
  },
  {
   "cell_type": "code",
   "execution_count": 21,
   "id": "53b3d4c3",
   "metadata": {},
   "outputs": [
    {
     "data": {
      "text/plain": [
       "[1, 2, 4]"
      ]
     },
     "execution_count": 21,
     "metadata": {},
     "output_type": "execute_result"
    }
   ],
   "source": [
    "setify([1,2,2,4])"
   ]
  },
  {
   "cell_type": "markdown",
   "id": "21c71d72",
   "metadata": {},
   "source": [
    "### Question 5\n",
    "Create a function that returns the mean of all digits.\n",
    "Examples\n",
    "mean(42) ➞ 3\n",
    "\n",
    "mean(12345) ➞ 3\n",
    "\n",
    "mean(666) ➞ 6\n",
    "Notes\n",
    "•\tThe mean of all digits is the sum of digits / how many digits there are (e.g. mean of digits in 512 is (5+1+2)/3(number of digits) = 8/3=2).\n",
    "•\tThe mean will always be an integer.\n"
   ]
  },
  {
   "cell_type": "code",
   "execution_count": 24,
   "id": "a242d842",
   "metadata": {},
   "outputs": [],
   "source": [
    "def mean(num):\n",
    "    return sum(int(digit) for digit in str(num)) / len(str(num))"
   ]
  },
  {
   "cell_type": "code",
   "execution_count": 31,
   "id": "3127d38e",
   "metadata": {},
   "outputs": [
    {
     "data": {
      "text/plain": [
       "3.0"
      ]
     },
     "execution_count": 31,
     "metadata": {},
     "output_type": "execute_result"
    }
   ],
   "source": [
    "mean(42)"
   ]
  },
  {
   "cell_type": "markdown",
   "id": "32f53de1",
   "metadata": {},
   "source": [
    "###  THE END"
   ]
  }
 ],
 "metadata": {
  "kernelspec": {
   "display_name": "Python 3 (ipykernel)",
   "language": "python",
   "name": "python3"
  },
  "language_info": {
   "codemirror_mode": {
    "name": "ipython",
    "version": 3
   },
   "file_extension": ".py",
   "mimetype": "text/x-python",
   "name": "python",
   "nbconvert_exporter": "python",
   "pygments_lexer": "ipython3",
   "version": "3.9.13"
  }
 },
 "nbformat": 4,
 "nbformat_minor": 5
}
