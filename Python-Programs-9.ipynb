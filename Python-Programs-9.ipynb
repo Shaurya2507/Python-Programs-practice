{
 "cells": [
  {
   "cell_type": "markdown",
   "id": "70d3bedf",
   "metadata": {},
   "source": [
    "### 1.\tWrite a Python program to check if the given number is a Disarium Number?"
   ]
  },
  {
   "cell_type": "code",
   "execution_count": 1,
   "id": "209cba87",
   "metadata": {},
   "outputs": [
    {
     "name": "stdout",
     "output_type": "stream",
     "text": [
      "Enter a number to check Diarium number: 175\n",
      "The sum of digits= 175\n",
      "\n",
      "175 is a Disarium number\n"
     ]
    }
   ],
   "source": [
    "Number = int(input('Enter a number to check Diarium number: '))\n",
    "length = len(str(Number))\n",
    "\n",
    "temp = Number\n",
    "Sum= 0\n",
    "rem = 0\n",
    "\n",
    "while temp > 0:\n",
    "    rem = temp % 10\n",
    "    Sum = Sum + int(rem**length)\n",
    "    temp = temp // 10\n",
    "    length = length -1\n",
    "    \n",
    "print(\"The sum of digits= %d\"%Sum)\n",
    "\n",
    "if Sum == Number:\n",
    "    print(\"\\n%d is a Disarium number\"%Number)\n",
    "    \n",
    "else:\n",
    "    print(\"\\n%d is a Disarium number\"%Number)"
   ]
  },
  {
   "cell_type": "markdown",
   "id": "2fd03542",
   "metadata": {},
   "source": [
    "### 2.\tWrite a Python program to print all disarium numbers between 1 to 100?"
   ]
  },
  {
   "cell_type": "code",
   "execution_count": 12,
   "id": "4263b9bc",
   "metadata": {},
   "outputs": [
    {
     "name": "stdout",
     "output_type": "stream",
     "text": [
      "Disarium number between 1 and 101 are : \n",
      "1\n",
      "2\n",
      "3\n",
      "4\n",
      "5\n",
      "6\n",
      "7\n",
      "8\n",
      "9\n",
      "89\n"
     ]
    }
   ],
   "source": [
    "def calculatelength(n):\n",
    "    length = 0\n",
    "    while(n !=0):\n",
    "        length = length + 1\n",
    "        n = n//10\n",
    "    return length;\n",
    "\n",
    "def sumofdigits(num):\n",
    "    rem=sum=0\n",
    "    len = calculatelength(num);\n",
    "        \n",
    "        \n",
    "    while(num>0):\n",
    "        rem = num%10;\n",
    "        sum = sum +(rem**len);\n",
    "        num = num//10\n",
    "        len = len - 1;\n",
    "    return sum;\n",
    "    \n",
    "result = 0\n",
    "\n",
    "print('Disarium number between 1 and 101 are : ')\n",
    "\n",
    "for i in range(1, 101):\n",
    "    result = sumofdigits(i);\n",
    "    \n",
    "    if (result==i):\n",
    "        print(i)      "
   ]
  },
  {
   "cell_type": "markdown",
   "id": "7f065400",
   "metadata": {},
   "source": [
    "### 3.\tWrite a Python program to check if the given number is Happy Number?"
   ]
  },
  {
   "cell_type": "code",
   "execution_count": 4,
   "id": "7464c6a6",
   "metadata": {},
   "outputs": [
    {
     "name": "stdout",
     "output_type": "stream",
     "text": [
      "82is a happy number\n"
     ]
    }
   ],
   "source": [
    "def ishappynumber(num):\n",
    "    sum=rem=0\n",
    "    \n",
    "    while(num>0):\n",
    "        rem = num%10\n",
    "        sum = sum+(rem*rem)\n",
    "        num=num//10\n",
    "        \n",
    "    return sum\n",
    "\n",
    "num = 82\n",
    "result = num\n",
    "\n",
    "while (result!= 1 and result!= 4):\n",
    "    result = ishappynumber(result)\n",
    "    \n",
    "    \n",
    "     \n",
    "#Happy number always ends with 1\n",
    "\n",
    "if(result == 1):\n",
    "    print(str(num) + 'is a happy number')\n",
    "    \n",
    "#Unhappy number ends in a cycle of repeating numbers which contain 4 \n",
    "\n",
    "elif(result ==4):\n",
    "    print(str(num + 'is not a happy number'))"
   ]
  },
  {
   "cell_type": "markdown",
   "id": "163517a4",
   "metadata": {},
   "source": [
    "### 4.\tWrite a Python program to print all happy numbers between 1 and 100?``"
   ]
  },
  {
   "cell_type": "code",
   "execution_count": 7,
   "id": "72f793a1",
   "metadata": {},
   "outputs": [
    {
     "name": "stdout",
     "output_type": "stream",
     "text": [
      "List of happy numbers between 1 and 100 are: \n",
      "1\n",
      "7\n",
      "10\n",
      "13\n",
      "19\n",
      "23\n",
      "28\n",
      "31\n",
      "32\n",
      "44\n",
      "49\n",
      "68\n",
      "70\n",
      "79\n",
      "82\n",
      "86\n",
      "91\n",
      "94\n",
      "97\n",
      "100\n"
     ]
    }
   ],
   "source": [
    "def ishappynumber(num):\n",
    "    rem=sum=0\n",
    "    \n",
    "    while(num>0):\n",
    "        rem = num%10\n",
    "        sum = sum +(rem*rem)\n",
    "        num = num//10\n",
    "    return sum\n",
    "\n",
    "\n",
    "print('List of happy numbers between 1 and 100 are: ')\n",
    "\n",
    "for i in range(1,101):\n",
    "    result = i\n",
    "    \n",
    "    \n",
    "    while(result!=4 and result!=1):\n",
    "        result = ishappynumber(result)\n",
    "        \n",
    "        \n",
    "    if(result==1):\n",
    "        print(i)\n",
    "        print('', end='')"
   ]
  },
  {
   "cell_type": "markdown",
   "id": "1b503dab",
   "metadata": {},
   "source": [
    "### 5.\tWrite a Python program to determine whether the given number is a Harshad Number?"
   ]
  },
  {
   "cell_type": "code",
   "execution_count": 13,
   "id": "312bc897",
   "metadata": {},
   "outputs": [
    {
     "name": "stdout",
     "output_type": "stream",
     "text": [
      "Enter a number to check harshad number = 111\n",
      "The sum of digits=3\n",
      "\n",
      "111 is a Harshad Number.\n"
     ]
    }
   ],
   "source": [
    "number = int(input('Enter a number to check harshad number = '))\n",
    "sum = 0\n",
    "temp = 0\n",
    "\n",
    "temp = number\n",
    "\n",
    "while temp > 0:\n",
    "    rem = temp % 10\n",
    "    sum = sum + rem\n",
    "    temp = temp // 10\n",
    "    \n",
    "print('The sum of digits=%d'%sum)\n",
    "\n",
    "if number % sum == 0:\n",
    "     print(\"\\n%d is a Harshad Number.\" %number)\n",
    "else:\n",
    "    print(\"%d is Not a Harshad Number.\" %number)"
   ]
  },
  {
   "cell_type": "markdown",
   "id": "05dce16a",
   "metadata": {},
   "source": [
    "### 6.\tWrite a Python program to print all pronic numbers between 1 and 100?"
   ]
  },
  {
   "cell_type": "code",
   "execution_count": 21,
   "id": "0c97b3b9",
   "metadata": {},
   "outputs": [
    {
     "name": "stdout",
     "output_type": "stream",
     "text": [
      "Enter a number: 12\n",
      "12 is a pronic number\n"
     ]
    }
   ],
   "source": [
    "n = int(input('Enter a number: '))\n",
    "flag=0\n",
    "for i in range(1,n+1):\n",
    "    if(i*(i+1)==n):\n",
    "        flag=1\n",
    "        break\n",
    "        \n",
    "if flag ==1:\n",
    "    print(n, \"is a pronic number\")\n",
    "    \n",
    "else:\n",
    "    print(n, \"is not a pronic number\")\n",
    "        "
   ]
  },
  {
   "cell_type": "markdown",
   "id": "96fe4f5c",
   "metadata": {},
   "source": [
    "###  THE END"
   ]
  }
 ],
 "metadata": {
  "kernelspec": {
   "display_name": "Python 3 (ipykernel)",
   "language": "python",
   "name": "python3"
  },
  "language_info": {
   "codemirror_mode": {
    "name": "ipython",
    "version": 3
   },
   "file_extension": ".py",
   "mimetype": "text/x-python",
   "name": "python",
   "nbconvert_exporter": "python",
   "pygments_lexer": "ipython3",
   "version": "3.9.13"
  }
 },
 "nbformat": 4,
 "nbformat_minor": 5
}
