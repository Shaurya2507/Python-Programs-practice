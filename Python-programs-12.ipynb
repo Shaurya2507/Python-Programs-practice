{
 "cells": [
  {
   "cell_type": "markdown",
   "id": "7b900300",
   "metadata": {},
   "source": [
    "### 1.\tWrite a Python program to Extract Unique values dictionary values?"
   ]
  },
  {
   "cell_type": "code",
   "execution_count": 1,
   "id": "73b6049c",
   "metadata": {},
   "outputs": [
    {
     "name": "stdout",
     "output_type": "stream",
     "text": [
      "[11, 23, 34, 45, 56, 67, 74, 78, 90]\n"
     ]
    }
   ],
   "source": [
    "car = {'a': [23,23,56], 'b': [34,45,78],'c':[67,67,90], 'd': [11,34,74],'e': [23,45,90,90]}\n",
    "\n",
    "res = list(sorted({i for val in car.values() for i in val}))\n",
    "\n",
    "print(res)"
   ]
  },
  {
   "cell_type": "markdown",
   "id": "a91d4ec8",
   "metadata": {},
   "source": [
    "### 2.\tWrite a Python program to find the sum of all items in a dictionary?"
   ]
  },
  {
   "cell_type": "code",
   "execution_count": 2,
   "id": "40fb22b0",
   "metadata": {},
   "outputs": [
    {
     "name": "stdout",
     "output_type": "stream",
     "text": [
      "248\n"
     ]
    }
   ],
   "source": [
    "sum1 = {'a': 23, 'b': 34 ,'c': 57, 'd': 45,'e': 89}\n",
    "\n",
    "print(sum(sum1.values()))"
   ]
  },
  {
   "cell_type": "markdown",
   "id": "f7573928",
   "metadata": {},
   "source": [
    "### 3.\tWrite a Python program to Merging two Dictionaries?"
   ]
  },
  {
   "cell_type": "code",
   "execution_count": 3,
   "id": "4e74f317",
   "metadata": {},
   "outputs": [
    {
     "name": "stdout",
     "output_type": "stream",
     "text": [
      "{'a': 23, 'b': 34, 'c': 57, 'd': 45, 'e': 89, 'f': 32, 'g': 43, 'h': 75, 'i': 54, 'j': 98}\n"
     ]
    }
   ],
   "source": [
    "var1 = {'a': 23, 'b': 34 ,'c': 57, 'd': 45,'e': 89}\n",
    "var2 = {'f': 32, 'g': 43 ,'h': 75, 'i': 54,'j': 98}\n",
    "\n",
    "print(var1 | var2)"
   ]
  },
  {
   "cell_type": "markdown",
   "id": "ce4602da",
   "metadata": {},
   "source": [
    "### 4.\tWrite a Python program to convert key-values list to flat dictionary?"
   ]
  },
  {
   "cell_type": "code",
   "execution_count": 4,
   "id": "9450d61f",
   "metadata": {},
   "outputs": [
    {
     "name": "stdout",
     "output_type": "stream",
     "text": [
      "{1: 'Mon', 2: 'Tues', 3: 'Wed'}\n"
     ]
    }
   ],
   "source": [
    "dic= {\"day\": [1, 2, 3], \"name\": ['Mon', 'Tues', 'Wed']}\n",
    "\n",
    "f_dic = dict(zip(dic['day'], dic['name']))\n",
    "print(f_dic)"
   ]
  },
  {
   "cell_type": "markdown",
   "id": "cbea0e39",
   "metadata": {},
   "source": [
    "### 5.\tWrite a Python program to insertion at the beginning in OrderedDict?"
   ]
  },
  {
   "cell_type": "code",
   "execution_count": 5,
   "id": "4781b09d",
   "metadata": {},
   "outputs": [
    {
     "name": "stdout",
     "output_type": "stream",
     "text": [
      "OrderedDict([('B', '200'), ('C', '300'), ('A', '100'), ('D', '400'), ('E', '500')])\n"
     ]
    }
   ],
   "source": [
    "from collections import OrderedDict\n",
    "\n",
    "dic1 = OrderedDict({('A', '100'), ('B', '200'), ('C', '300'), ('D', '400')})\n",
    "\n",
    "dic1.update({'E':'500'})\n",
    "\n",
    "print(dic1)"
   ]
  },
  {
   "cell_type": "markdown",
   "id": "fedc39d0",
   "metadata": {},
   "source": [
    "### 6.\tWrite a Python program to check order of character in string using OrderedDict()?"
   ]
  },
  {
   "cell_type": "code",
   "execution_count": 6,
   "id": "6fad7d15",
   "metadata": {},
   "outputs": [
    {
     "name": "stdout",
     "output_type": "stream",
     "text": [
      "Enter a string 1: abcdefgh\n",
      "Enter a string 2: hg\n",
      "Invalid\n"
     ]
    }
   ],
   "source": [
    "from collections import OrderedDict\n",
    "\n",
    "def check(string1, string2):\n",
    "    s=string1\n",
    "    p=string2\n",
    "    l=0\n",
    "    dict1 = OrderedDict.fromkeys(s)\n",
    "    \n",
    "    for k,v in dict1.items():\n",
    "        if k == p[l]:\n",
    "            l += 1\n",
    "            \n",
    "        if l == (len(p)):\n",
    "            return print('valid')\n",
    "        \n",
    "    return print('Invalid')\n",
    "\n",
    "\n",
    "str1 = input('Enter a string 1: ')\n",
    "str2 = input('Enter a string 2: ')\n",
    "\n",
    "check(str1,str2)\n",
    "    "
   ]
  },
  {
   "cell_type": "markdown",
   "id": "8a88165a",
   "metadata": {},
   "source": [
    "### 7.\tWrite a Python program to sort Python Dictionaries by Key or Value?"
   ]
  },
  {
   "cell_type": "code",
   "execution_count": 7,
   "id": "92596f36",
   "metadata": {},
   "outputs": [
    {
     "name": "stdout",
     "output_type": "stream",
     "text": [
      "[3, 4, 6]\n"
     ]
    }
   ],
   "source": [
    "#values\n",
    "\n",
    "dt = {5:4, 1:6, 6:3}\n",
    "\n",
    "dt_1 = sorted(dt.values())\n",
    "\n",
    "print(dt_1)"
   ]
  },
  {
   "cell_type": "code",
   "execution_count": 8,
   "id": "705b20e2",
   "metadata": {},
   "outputs": [
    {
     "name": "stdout",
     "output_type": "stream",
     "text": [
      "[2, 6, 8]\n"
     ]
    }
   ],
   "source": [
    "#keys\n",
    "\n",
    "dt = {2:3,6:7,8:9}\n",
    "\n",
    "dt_2 = sorted(dt.keys())\n",
    "print(dt_2)"
   ]
  },
  {
   "cell_type": "markdown",
   "id": "3e6e8d78",
   "metadata": {},
   "source": [
    "### THE END"
   ]
  }
 ],
 "metadata": {
  "kernelspec": {
   "display_name": "Python 3 (ipykernel)",
   "language": "python",
   "name": "python3"
  },
  "language_info": {
   "codemirror_mode": {
    "name": "ipython",
    "version": 3
   },
   "file_extension": ".py",
   "mimetype": "text/x-python",
   "name": "python",
   "nbconvert_exporter": "python",
   "pygments_lexer": "ipython3",
   "version": "3.9.13"
  }
 },
 "nbformat": 4,
 "nbformat_minor": 5
}
