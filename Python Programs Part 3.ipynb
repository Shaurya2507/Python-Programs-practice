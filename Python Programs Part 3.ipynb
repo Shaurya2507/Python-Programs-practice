{
 "cells": [
  {
   "cell_type": "markdown",
   "id": "4b14358f",
   "metadata": {},
   "source": [
    "### Write a Python Program to Check if a Number is Positive, Negative or Zero?"
   ]
  },
  {
   "cell_type": "code",
   "execution_count": 10,
   "id": "88dd000c",
   "metadata": {},
   "outputs": [
    {
     "name": "stdout",
     "output_type": "stream",
     "text": [
      "Enter a number of your choice-12\n",
      "The particular number is negative\n"
     ]
    }
   ],
   "source": [
    "a = int(input('Enter a number of your choice'))\n",
    "\n",
    "if a < 0:\n",
    "    print('The particular number is negative')\n",
    "elif a > 0:\n",
    "    print(\"The paticular number is positive\")\n",
    "else:\n",
    "     print(\"The paticular number is zero\")"
   ]
  },
  {
   "cell_type": "markdown",
   "id": "f5b6f134",
   "metadata": {},
   "source": [
    "### 2.\tWrite a Python Program to Check if a Number is Odd or Even?"
   ]
  },
  {
   "cell_type": "code",
   "execution_count": 15,
   "id": "690015d8",
   "metadata": {},
   "outputs": [
    {
     "name": "stdout",
     "output_type": "stream",
     "text": [
      "Enter a number of your choice: 2\n",
      "Even number you did it\n"
     ]
    }
   ],
   "source": [
    "a = int(input('Enter a number of your choice: ')) \n",
    "\n",
    "if a % 2 == 0:\n",
    "    print(\"Even number you did it\")\n",
    "else:\n",
    "    print(\"Odd number you did it too\")"
   ]
  },
  {
   "cell_type": "markdown",
   "id": "59f45aba",
   "metadata": {},
   "source": [
    "### 3.\tWrite a Python Program to Check Leap Year?"
   ]
  },
  {
   "cell_type": "code",
   "execution_count": 20,
   "id": "d68d6c8f",
   "metadata": {},
   "outputs": [
    {
     "name": "stdout",
     "output_type": "stream",
     "text": [
      "Enter your respective year: 2023\n",
      "Its not a leap year\n"
     ]
    }
   ],
   "source": [
    "year = int(input(\"Enter your respective year: \"))\n",
    "\n",
    "if year % 4 == 0:\n",
    "    print(\"Its a leap year\")\n",
    "    \n",
    "elif year % 400 == 0:\n",
    "    print('Its a leap year')\n",
    "    \n",
    "elif year % 100 == 0:\n",
    "    print('Its a leap year')\n",
    "    \n",
    "else:\n",
    "    print('Its not a leap year')"
   ]
  },
  {
   "cell_type": "markdown",
   "id": "2bbf9951",
   "metadata": {},
   "source": [
    "\n",
    "### 4.\tWrite a Python Program to Check Prime Number?"
   ]
  },
  {
   "cell_type": "code",
   "execution_count": 28,
   "id": "1e50e71a",
   "metadata": {},
   "outputs": [
    {
     "name": "stdout",
     "output_type": "stream",
     "text": [
      "prime number 2\n",
      "prime number 3\n",
      "prime number 5\n",
      "prime number 7\n",
      "prime number 11\n",
      "prime number 13\n",
      "prime number 17\n",
      "prime number 19\n",
      "prime number 23\n",
      "prime number 29\n",
      "prime number 31\n",
      "prime number 37\n",
      "prime number 41\n",
      "prime number 43\n",
      "prime number 47\n",
      "prime number 53\n",
      "prime number 59\n",
      "prime number 61\n",
      "prime number 67\n",
      "prime number 71\n",
      "prime number 73\n",
      "prime number 79\n",
      "prime number 83\n",
      "prime number 89\n",
      "prime number 97\n"
     ]
    }
   ],
   "source": [
    "for i in range(2,100):\n",
    "    for j in range(2,i):\n",
    "        if i%j==0:\n",
    "            break\n",
    "    else:\n",
    "        print('prime number', i)"
   ]
  },
  {
   "cell_type": "markdown",
   "id": "9f37ba66",
   "metadata": {},
   "source": [
    "### 5.\tWrite a Python Program to Print all Prime Numbers in an Interval of 1-10000?"
   ]
  },
  {
   "cell_type": "code",
   "execution_count": 29,
   "id": "449cdeea",
   "metadata": {},
   "outputs": [
    {
     "name": "stdout",
     "output_type": "stream",
     "text": [
      "prime numbers are 1\n",
      "prime numbers are 2\n",
      "prime numbers are 3\n",
      "prime numbers are 5\n",
      "prime numbers are 7\n",
      "prime numbers are 11\n",
      "prime numbers are 13\n",
      "prime numbers are 17\n",
      "prime numbers are 19\n",
      "prime numbers are 23\n",
      "prime numbers are 29\n",
      "prime numbers are 31\n",
      "prime numbers are 37\n",
      "prime numbers are 41\n",
      "prime numbers are 43\n",
      "prime numbers are 47\n",
      "prime numbers are 53\n",
      "prime numbers are 59\n",
      "prime numbers are 61\n",
      "prime numbers are 67\n",
      "prime numbers are 71\n",
      "prime numbers are 73\n",
      "prime numbers are 79\n",
      "prime numbers are 83\n",
      "prime numbers are 89\n",
      "prime numbers are 97\n",
      "prime numbers are 101\n",
      "prime numbers are 103\n",
      "prime numbers are 107\n",
      "prime numbers are 109\n",
      "prime numbers are 113\n",
      "prime numbers are 127\n",
      "prime numbers are 131\n",
      "prime numbers are 137\n",
      "prime numbers are 139\n",
      "prime numbers are 149\n",
      "prime numbers are 151\n",
      "prime numbers are 157\n",
      "prime numbers are 163\n",
      "prime numbers are 167\n",
      "prime numbers are 173\n",
      "prime numbers are 179\n",
      "prime numbers are 181\n",
      "prime numbers are 191\n",
      "prime numbers are 193\n",
      "prime numbers are 197\n",
      "prime numbers are 199\n",
      "prime numbers are 211\n",
      "prime numbers are 223\n",
      "prime numbers are 227\n",
      "prime numbers are 229\n",
      "prime numbers are 233\n",
      "prime numbers are 239\n",
      "prime numbers are 241\n",
      "prime numbers are 251\n",
      "prime numbers are 257\n",
      "prime numbers are 263\n",
      "prime numbers are 269\n",
      "prime numbers are 271\n",
      "prime numbers are 277\n",
      "prime numbers are 281\n",
      "prime numbers are 283\n",
      "prime numbers are 293\n",
      "prime numbers are 307\n",
      "prime numbers are 311\n",
      "prime numbers are 313\n",
      "prime numbers are 317\n",
      "prime numbers are 331\n",
      "prime numbers are 337\n",
      "prime numbers are 347\n",
      "prime numbers are 349\n",
      "prime numbers are 353\n",
      "prime numbers are 359\n",
      "prime numbers are 367\n",
      "prime numbers are 373\n",
      "prime numbers are 379\n",
      "prime numbers are 383\n",
      "prime numbers are 389\n",
      "prime numbers are 397\n",
      "prime numbers are 401\n",
      "prime numbers are 409\n",
      "prime numbers are 419\n",
      "prime numbers are 421\n",
      "prime numbers are 431\n",
      "prime numbers are 433\n",
      "prime numbers are 439\n",
      "prime numbers are 443\n",
      "prime numbers are 449\n",
      "prime numbers are 457\n",
      "prime numbers are 461\n",
      "prime numbers are 463\n",
      "prime numbers are 467\n",
      "prime numbers are 479\n",
      "prime numbers are 487\n",
      "prime numbers are 491\n",
      "prime numbers are 499\n",
      "prime numbers are 503\n",
      "prime numbers are 509\n",
      "prime numbers are 521\n",
      "prime numbers are 523\n",
      "prime numbers are 541\n",
      "prime numbers are 547\n",
      "prime numbers are 557\n",
      "prime numbers are 563\n",
      "prime numbers are 569\n",
      "prime numbers are 571\n",
      "prime numbers are 577\n",
      "prime numbers are 587\n",
      "prime numbers are 593\n",
      "prime numbers are 599\n",
      "prime numbers are 601\n",
      "prime numbers are 607\n",
      "prime numbers are 613\n",
      "prime numbers are 617\n",
      "prime numbers are 619\n",
      "prime numbers are 631\n",
      "prime numbers are 641\n",
      "prime numbers are 643\n",
      "prime numbers are 647\n",
      "prime numbers are 653\n",
      "prime numbers are 659\n",
      "prime numbers are 661\n",
      "prime numbers are 673\n",
      "prime numbers are 677\n",
      "prime numbers are 683\n",
      "prime numbers are 691\n",
      "prime numbers are 701\n",
      "prime numbers are 709\n",
      "prime numbers are 719\n",
      "prime numbers are 727\n",
      "prime numbers are 733\n",
      "prime numbers are 739\n",
      "prime numbers are 743\n",
      "prime numbers are 751\n",
      "prime numbers are 757\n",
      "prime numbers are 761\n",
      "prime numbers are 769\n",
      "prime numbers are 773\n",
      "prime numbers are 787\n",
      "prime numbers are 797\n",
      "prime numbers are 809\n",
      "prime numbers are 811\n",
      "prime numbers are 821\n",
      "prime numbers are 823\n",
      "prime numbers are 827\n",
      "prime numbers are 829\n",
      "prime numbers are 839\n",
      "prime numbers are 853\n",
      "prime numbers are 857\n",
      "prime numbers are 859\n",
      "prime numbers are 863\n",
      "prime numbers are 877\n",
      "prime numbers are 881\n",
      "prime numbers are 883\n",
      "prime numbers are 887\n",
      "prime numbers are 907\n",
      "prime numbers are 911\n",
      "prime numbers are 919\n",
      "prime numbers are 929\n",
      "prime numbers are 937\n",
      "prime numbers are 941\n",
      "prime numbers are 947\n",
      "prime numbers are 953\n",
      "prime numbers are 967\n",
      "prime numbers are 971\n",
      "prime numbers are 977\n",
      "prime numbers are 983\n",
      "prime numbers are 991\n",
      "prime numbers are 997\n"
     ]
    }
   ],
   "source": [
    "for i in range(1,1000):\n",
    "    for j in range(2,i):\n",
    "        if i%j == 0:\n",
    "            break\n",
    "    else:\n",
    "        print('prime numbers are', i)"
   ]
  },
  {
   "cell_type": "markdown",
   "id": "318277da",
   "metadata": {},
   "source": [
    "### THE  END"
   ]
  }
 ],
 "metadata": {
  "kernelspec": {
   "display_name": "Python 3 (ipykernel)",
   "language": "python",
   "name": "python3"
  },
  "language_info": {
   "codemirror_mode": {
    "name": "ipython",
    "version": 3
   },
   "file_extension": ".py",
   "mimetype": "text/x-python",
   "name": "python",
   "nbconvert_exporter": "python",
   "pygments_lexer": "ipython3",
   "version": "3.9.13"
  }
 },
 "nbformat": 4,
 "nbformat_minor": 5
}
