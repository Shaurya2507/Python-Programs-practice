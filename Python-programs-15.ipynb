{
 "cells": [
  {
   "cell_type": "markdown",
   "id": "327c98b1",
   "metadata": {},
   "source": [
    "### Question 1:\n",
    "Please write a program using generator to print the numbers which can be divisible by 5 and 7 between 0 and n in comma separated form while n is input by console.\n",
    "Example:\n",
    "If the following n is given as input to the program:\n",
    "100\n",
    "Then, the output of the program should be:\n",
    "0,35,70\n"
   ]
  },
  {
   "cell_type": "code",
   "execution_count": 1,
   "id": "8525bcbe",
   "metadata": {},
   "outputs": [
    {
     "name": "stdout",
     "output_type": "stream",
     "text": [
      "Enter a number of your choice: 100\n",
      "0 35 70\n"
     ]
    }
   ],
   "source": [
    "def numgenerator(n):\n",
    "    for i in range(n+1):\n",
    "        if i%7 == 0 and i%5 == 0:\n",
    "            yield i\n",
    "            \n",
    "n = int(input(\"Enter a number of your choice: \"))\n",
    "values = []\n",
    "for i in numgenerator(n):\n",
    "    values.append(str(i))\n",
    "print(\" \".join(values))"
   ]
  },
  {
   "cell_type": "markdown",
   "id": "0df521d6",
   "metadata": {},
   "source": [
    "### Question 2:\n",
    "Please write a program using generator to print the even numbers between 0 and n in comma separated form while n is input by console.\n",
    "Example:\n",
    "If the following n is given as input to the program:\n",
    "10\n",
    "Then, the output of the program should be:\n",
    "0,2,4,6,8,10\n"
   ]
  },
  {
   "cell_type": "code",
   "execution_count": 2,
   "id": "15bc119c",
   "metadata": {},
   "outputs": [
    {
     "name": "stdout",
     "output_type": "stream",
     "text": [
      "Enter a number of your choice: 10\n",
      "0 2 4 6 8 10\n"
     ]
    }
   ],
   "source": [
    "def evengenerator(n):\n",
    "    for i in range(n+1):\n",
    "        if i%2==0:\n",
    "            yield i\n",
    "            \n",
    "n = int(input('Enter a number of your choice: '))\n",
    "values=[]\n",
    "for i in evengenerator(n):\n",
    "    values.append(str(i))\n",
    "print(\" \".join(values)) "
   ]
  },
  {
   "cell_type": "markdown",
   "id": "509aabe5",
   "metadata": {},
   "source": [
    "### Question 3:\n",
    "The Fibonacci Sequence is computed based on the following formula:\n",
    "f(n)=0 if n=0\n",
    "f(n)=1 if n=1\n",
    "f(n)=f(n-1)+f(n-2) if n>1\n",
    "Please write a program using list comprehension to print the Fibonacci Sequence in comma separated form with a given n input by console.\n",
    "Example:\n",
    "If the following n is given as input to the program:\n",
    "7\n"
   ]
  },
  {
   "cell_type": "code",
   "execution_count": 8,
   "id": "60b50928",
   "metadata": {},
   "outputs": [
    {
     "name": "stdout",
     "output_type": "stream",
     "text": [
      "Enter a value of n: 7\n",
      "The first 7 numbers of the fibonacci sequence:  0,1,1,2,3,5,8\n"
     ]
    }
   ],
   "source": [
    "def fibonacci(n):\n",
    "    return[0 if n == 0 else 1 if n == 1 else fibonacci(n-1)+ fibonacci(n-2)][0]\n",
    "\n",
    "n = int(input('Enter a value of n: '))\n",
    "fib_sequence = [fibonacci(i) for i in range(n)]\n",
    "print(\"The first\", n, \"numbers of the fibonacci sequence: \",','.join(map(str,fib_sequence)))"
   ]
  },
  {
   "cell_type": "markdown",
   "id": "8af6d97f",
   "metadata": {},
   "source": [
    "### Question 4:\n",
    "Assuming that we have some email addresses in the \"username@companyname.com\" format, please write program to print the user name of a given email address. Both user names and company names are composed of letters only.\n",
    "Example:\n",
    "If the following email address is given as input to the program:\n",
    "john@google.com\n",
    "Then, the output of the program should be:\n",
    "john\n"
   ]
  },
  {
   "cell_type": "code",
   "execution_count": 18,
   "id": "d03fb61c",
   "metadata": {},
   "outputs": [
    {
     "name": "stdout",
     "output_type": "stream",
     "text": [
      "john\n"
     ]
    }
   ],
   "source": [
    "email = 'john@google.com'\n",
    "username =  email.split('@')[0]\n",
    "print(username)"
   ]
  },
  {
   "cell_type": "markdown",
   "id": "52441e29",
   "metadata": {},
   "source": [
    "### Question 5:\n",
    "Define a class named Shape and its subclass Square. The Square class has an init function which takes a length as argument. Both classes have a area function which can print the area of the shape where Shape's area is 0 by default.\n"
   ]
  },
  {
   "cell_type": "code",
   "execution_count": 20,
   "id": "669f2afa",
   "metadata": {},
   "outputs": [
    {
     "name": "stdout",
     "output_type": "stream",
     "text": [
      "9\n"
     ]
    }
   ],
   "source": [
    "class Shape(object):\n",
    "    def __init__(self):\n",
    "        pass\n",
    "    \n",
    "    def area(self):\n",
    "        return 0\n",
    "    \n",
    "class Square(Shape):\n",
    "    def __init__(self,l):\n",
    "        Shape.__init__(self)\n",
    "        self.length = l\n",
    "        \n",
    "        \n",
    "    def area(self):\n",
    "        return self.length*self.length\n",
    "    \n",
    "aSquare = Square(3)\n",
    "print(aSquare.area())"
   ]
  },
  {
   "cell_type": "markdown",
   "id": "533db196",
   "metadata": {},
   "source": [
    "### THE END"
   ]
  }
 ],
 "metadata": {
  "kernelspec": {
   "display_name": "Python 3 (ipykernel)",
   "language": "python",
   "name": "python3"
  },
  "language_info": {
   "codemirror_mode": {
    "name": "ipython",
    "version": 3
   },
   "file_extension": ".py",
   "mimetype": "text/x-python",
   "name": "python",
   "nbconvert_exporter": "python",
   "pygments_lexer": "ipython3",
   "version": "3.9.13"
  }
 },
 "nbformat": 4,
 "nbformat_minor": 5
}
