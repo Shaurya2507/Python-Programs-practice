{
 "cells": [
  {
   "cell_type": "markdown",
   "id": "57279275",
   "metadata": {},
   "source": [
    "### 1.\tWrite a Python program to convert kilometers to miles?"
   ]
  },
  {
   "cell_type": "code",
   "execution_count": null,
   "id": "36b0a4e9",
   "metadata": {},
   "outputs": [
    {
     "name": "stdout",
     "output_type": "stream",
     "text": [
      "Enter a number in kilometers: 10\n"
     ]
    }
   ],
   "source": [
    "Kilometers = float(input('Enter a number in kilometers: '))\n",
    "\n",
    "Conmil = 0.621371\n",
    "\n",
    "Miles = Kilometers * Conmil\n",
    "\n",
    "print('%0.2f Kilometers is equal to %0.2f' %(Miles))"
   ]
  },
  {
   "cell_type": "markdown",
   "id": "649ffa6e",
   "metadata": {},
   "source": [
    "### 2.\tWrite a Python program to convert Celsius to Fahrenheit?"
   ]
  },
  {
   "cell_type": "code",
   "execution_count": 15,
   "id": "84c215e3",
   "metadata": {},
   "outputs": [
    {
     "name": "stdout",
     "output_type": "stream",
     "text": [
      "37.5 degree Celsius is equal to 99.5\n"
     ]
    }
   ],
   "source": [
    "celsius = 37.5\n",
    "\n",
    "fahrenheit = (celsius * 1.8) + 32\n",
    "\n",
    "print('%0.1f degree Celsius is equal to %0.1f' %(celsius, fahrenheit))"
   ]
  },
  {
   "cell_type": "markdown",
   "id": "2ef5ca9c",
   "metadata": {},
   "source": [
    "### 3.\tWrite a Python program to display calendar?"
   ]
  },
  {
   "cell_type": "code",
   "execution_count": 19,
   "id": "f84fb5a1",
   "metadata": {},
   "outputs": [
    {
     "name": "stdout",
     "output_type": "stream",
     "text": [
      "Enter a year: 2023\n",
      "Enter a month: 1\n",
      "    January 2023\n",
      "Mo Tu We Th Fr Sa Su\n",
      "                   1\n",
      " 2  3  4  5  6  7  8\n",
      " 9 10 11 12 13 14 15\n",
      "16 17 18 19 20 21 22\n",
      "23 24 25 26 27 28 29\n",
      "30 31\n",
      "\n"
     ]
    }
   ],
   "source": [
    "import calendar\n",
    "\n",
    "year = int(input('Enter a year: '))\n",
    "\n",
    "month = int(input('Enter a month: '))\n",
    "\n",
    "print(calendar.month(year, month))"
   ]
  },
  {
   "cell_type": "markdown",
   "id": "cab92143",
   "metadata": {},
   "source": [
    "### 4.\tWrite a Python program to solve quadratic equation?"
   ]
  },
  {
   "cell_type": "code",
   "execution_count": 21,
   "id": "1f5408ca",
   "metadata": {},
   "outputs": [
    {
     "name": "stdout",
     "output_type": "stream",
     "text": [
      "442\n"
     ]
    }
   ],
   "source": [
    "x = 20\n",
    "y = 10\n",
    "\n",
    "z = x**2 + 4*y + 2\n",
    "\n",
    "print(z)"
   ]
  },
  {
   "cell_type": "markdown",
   "id": "2ee2bc95",
   "metadata": {},
   "source": [
    "### 5.\tWrite a Python program to swap two variables without temp variable?"
   ]
  },
  {
   "cell_type": "code",
   "execution_count": 24,
   "id": "4282d492",
   "metadata": {},
   "outputs": [
    {
     "name": "stdout",
     "output_type": "stream",
     "text": [
      "Enter a first number: 11\n",
      "Enter a second number: 22\n",
      "Old value of int1 is 22 and new value of int2 is 11\n",
      "Old value of int1 is 22 and new value of int2 is 11\n"
     ]
    }
   ],
   "source": [
    "int1 = int(input('Enter a first number: ')) \n",
    "int2= int(input('Enter a second number: '))\n",
    "\n",
    "print('Old value of int1 is {0} and new value of int2 is {1}'.format(a,b))\n",
    "\n",
    "int1 = int1 + int2\n",
    "int2 = int1 - int2\n",
    "int1 = int1 - int2\n",
    "\n",
    "print('Old value of int1 is {0} and new value of int2 is {1}'.format(a,b))"
   ]
  },
  {
   "cell_type": "markdown",
   "id": "6ca5c79c",
   "metadata": {},
   "source": [
    "###  THE END"
   ]
  }
 ],
 "metadata": {
  "kernelspec": {
   "display_name": "Python 3 (ipykernel)",
   "language": "python",
   "name": "python3"
  },
  "language_info": {
   "codemirror_mode": {
    "name": "ipython",
    "version": 3
   },
   "file_extension": ".py",
   "mimetype": "text/x-python",
   "name": "python",
   "nbconvert_exporter": "python",
   "pygments_lexer": "ipython3",
   "version": "3.9.13"
  }
 },
 "nbformat": 4,
 "nbformat_minor": 5
}
