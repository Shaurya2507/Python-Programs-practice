{
 "cells": [
  {
   "cell_type": "markdown",
   "id": "c2734071",
   "metadata": {},
   "source": [
    "### Write a Python Program to Find the Factorial of a Number?"
   ]
  },
  {
   "cell_type": "code",
   "execution_count": 1,
   "id": "609679ef",
   "metadata": {},
   "outputs": [
    {
     "name": "stdout",
     "output_type": "stream",
     "text": [
      "Enter a factorial number: 6\n",
      "120\n"
     ]
    }
   ],
   "source": [
    "n = int(input('Enter a factorial number: '))\n",
    "count = 1\n",
    "for i in range(1,n):\n",
    "    count = count*i\n",
    "print(count)"
   ]
  },
  {
   "cell_type": "markdown",
   "id": "b6cb4697",
   "metadata": {},
   "source": [
    "### Write a Python Program to Display the multiplication Table?"
   ]
  },
  {
   "cell_type": "code",
   "execution_count": 2,
   "id": "bb736b39",
   "metadata": {},
   "outputs": [
    {
     "name": "stdout",
     "output_type": "stream",
     "text": [
      "9 x 1 = 9\n",
      "9 x 2 = 18\n",
      "9 x 3 = 27\n",
      "9 x 4 = 36\n",
      "9 x 5 = 45\n",
      "9 x 6 = 54\n",
      "9 x 7 = 63\n",
      "9 x 8 = 72\n",
      "9 x 9 = 81\n",
      "9 x 10 = 90\n"
     ]
    }
   ],
   "source": [
    "n = 9\n",
    "for i in range(1,11):\n",
    "    print(n, 'x', i, '=', n*i)\n",
    "    "
   ]
  },
  {
   "cell_type": "markdown",
   "id": "402cfe46",
   "metadata": {},
   "source": [
    "### Write a Python Program to Print the Fibonacci sequence?"
   ]
  },
  {
   "cell_type": "code",
   "execution_count": 3,
   "id": "d35330f8",
   "metadata": {},
   "outputs": [
    {
     "name": "stdout",
     "output_type": "stream",
     "text": [
      "[0, 1, 1, 2, 3, 5, 8, 13, 21, 34] "
     ]
    }
   ],
   "source": [
    "count = [0,1]\n",
    "for i in range(0,8):\n",
    "    count.append(count[-1]+count[-2])\n",
    "print(count, end=' ')"
   ]
  },
  {
   "cell_type": "markdown",
   "id": "9a46c216",
   "metadata": {},
   "source": [
    "### Write a Python Program to Check Armstrong Number?"
   ]
  },
  {
   "cell_type": "code",
   "execution_count": 4,
   "id": "67ea8015",
   "metadata": {},
   "outputs": [
    {
     "name": "stdout",
     "output_type": "stream",
     "text": [
      "Enter a number: 153\n",
      "153 is an Armstrong Number\n"
     ]
    }
   ],
   "source": [
    "n = int(input('Enter a number: '))\n",
    "s = 0\n",
    "t = n\n",
    "\n",
    "while t > 0:\n",
    "    digit = t % 10\n",
    "    s += digit **3\n",
    "    t //= 10\n",
    "    \n",
    "if n == s:\n",
    "    print(n, \"is an Armstrong Number\")\n",
    "    \n",
    "else:\n",
    "    print(n, \"is not an Armstrong number\")"
   ]
  },
  {
   "cell_type": "markdown",
   "id": "16b91a9e",
   "metadata": {},
   "source": [
    "### Write a Python Program to Find Armstrong Number in an Interval?"
   ]
  },
  {
   "cell_type": "code",
   "execution_count": 6,
   "id": "61f3d5fc",
   "metadata": {},
   "outputs": [
    {
     "name": "stdout",
     "output_type": "stream",
     "text": [
      "153\n",
      "370\n",
      "371\n",
      "407\n",
      "1634\n"
     ]
    }
   ],
   "source": [
    "lower = 100\n",
    "upper = 2000\n",
    "\n",
    "for n in range(lower, upper + 1):\n",
    "    order = len(str(n))\n",
    "    \n",
    "    s=0\n",
    "    t=n\n",
    "    \n",
    "    while t > 0:\n",
    "        digit = t % 10\n",
    "        s+= digit**order\n",
    "        t //=10\n",
    "        \n",
    "    if n == s:\n",
    "        print(n)\n",
    "        "
   ]
  },
  {
   "cell_type": "markdown",
   "id": "a5b7b603",
   "metadata": {},
   "source": [
    "### Write a Python Program to Find the Sum of Natural Numbers?"
   ]
  },
  {
   "cell_type": "code",
   "execution_count": 11,
   "id": "b7384e50",
   "metadata": {},
   "outputs": [
    {
     "name": "stdout",
     "output_type": "stream",
     "text": [
      "10\n"
     ]
    }
   ],
   "source": [
    "count = 0\n",
    "for i in range(1,5):\n",
    "    count = count + i\n",
    "print(count)"
   ]
  },
  {
   "cell_type": "markdown",
   "id": "d8dc5990",
   "metadata": {},
   "source": [
    "## THE END"
   ]
  }
 ],
 "metadata": {
  "kernelspec": {
   "display_name": "Python 3 (ipykernel)",
   "language": "python",
   "name": "python3"
  },
  "language_info": {
   "codemirror_mode": {
    "name": "ipython",
    "version": 3
   },
   "file_extension": ".py",
   "mimetype": "text/x-python",
   "name": "python",
   "nbconvert_exporter": "python",
   "pygments_lexer": "ipython3",
   "version": "3.9.13"
  }
 },
 "nbformat": 4,
 "nbformat_minor": 5
}
