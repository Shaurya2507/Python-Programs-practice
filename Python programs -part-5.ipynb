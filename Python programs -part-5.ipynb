{
 "cells": [
  {
   "cell_type": "markdown",
   "id": "103de1ca",
   "metadata": {},
   "source": [
    "### Write a python program to find LCM?"
   ]
  },
  {
   "cell_type": "code",
   "execution_count": 1,
   "id": "06412fbf",
   "metadata": {},
   "outputs": [
    {
     "name": "stdout",
     "output_type": "stream",
     "text": [
      "Enter a number: 3\n",
      "Enter a number: 2\n",
      "The LCM of 3 and 2 is: 6\n"
     ]
    }
   ],
   "source": [
    "a = int(input('Enter a number: '))\n",
    "b = int(input('Enter a number: '))\n",
    "\n",
    "maxNum = max(a,b)\n",
    "\n",
    "while(True):\n",
    "    if (maxNum%a == 0 and maxNum%b == 0):\n",
    "        break\n",
    "    maxNum = maxNum + 1\n",
    "print(f\"The LCM of {a} and {b} is: {maxNum}\")  "
   ]
  },
  {
   "cell_type": "markdown",
   "id": "0f1d4e87",
   "metadata": {},
   "source": [
    "### Write a Python Program to Find HCF?"
   ]
  },
  {
   "cell_type": "code",
   "execution_count": 2,
   "id": "92f9a7f4",
   "metadata": {},
   "outputs": [
    {
     "name": "stdout",
     "output_type": "stream",
     "text": [
      "Enter a number1: 2\n",
      "Enter a number2: 4\n",
      "The hcf of num1 and num2 is 2\n"
     ]
    }
   ],
   "source": [
    "num1 = int(input('Enter a number1: '))\n",
    "num2 = int(input('Enter a number2: '))\n",
    "\n",
    "if num2>num1:\n",
    "    mn = num2\n",
    "else:\n",
    "    mn = num1\n",
    "    \n",
    "for i in range(1, mn+1):\n",
    "    if (num1%i==0 and num2%i==0):\n",
    "        hcf = i\n",
    "print(f'The hcf of num1 and num2 is {hcf}')"
   ]
  },
  {
   "cell_type": "markdown",
   "id": "d1eea561",
   "metadata": {},
   "source": [
    "### Write a Python Program to Convert Decimal to Binary, Octal and Hexadecimal?"
   ]
  },
  {
   "cell_type": "code",
   "execution_count": 3,
   "id": "6b1b25d9",
   "metadata": {},
   "outputs": [
    {
     "name": "stdout",
     "output_type": "stream",
     "text": [
      "The binary is: 0b101011001\n",
      "The octal is: 0o531\n",
      "The Hexadecimal is: 0x159\n"
     ]
    }
   ],
   "source": [
    "dec = 345\n",
    "\n",
    "print(\"The binary is:\", bin(dec))\n",
    "print(\"The octal is:\", oct(dec))\n",
    "print(\"The Hexadecimal is:\", hex(dec))"
   ]
  },
  {
   "cell_type": "markdown",
   "id": "8613c46e",
   "metadata": {},
   "source": [
    "### Write a Python Program To Find ASCII value of a character?"
   ]
  },
  {
   "cell_type": "code",
   "execution_count": 7,
   "id": "c682db2e",
   "metadata": {},
   "outputs": [
    {
     "name": "stdout",
     "output_type": "stream",
     "text": [
      "Enter a char: g\n",
      "The Ascii value for char is 103\n"
     ]
    }
   ],
   "source": [
    "char = input('Enter a char: ')\n",
    "convert = ord(char)\n",
    "print(\"The Ascii value for char is\", convert)"
   ]
  },
  {
   "cell_type": "markdown",
   "id": "9668fe64",
   "metadata": {},
   "source": [
    "### Write a Python Program to Make a Simple Calculator with 4 basic mathematical operations?"
   ]
  },
  {
   "cell_type": "code",
   "execution_count": 6,
   "id": "33ed5363",
   "metadata": {},
   "outputs": [
    {
     "name": "stdout",
     "output_type": "stream",
     "text": [
      "Enter a number1: 4\n",
      "Enter a number2: 5\n",
      "Addition for 1\n",
      "Subtraction for 2\n",
      "Multiplication for 3\n",
      "Division for 4\n",
      "Enter the number of your choice from 1-43\n",
      "The Multiplication of num1 and num2 is 20\n"
     ]
    }
   ],
   "source": [
    "num1 = int(input('Enter a number1: '))\n",
    "num2 = int(input('Enter a number2: '))\n",
    "\n",
    "\n",
    "print('Addition for 1')\n",
    "print('Subtraction for 2')\n",
    "print('Multiplication for 3')\n",
    "print('Division for 4')\n",
    "\n",
    "choice = int(input('Enter the number of your choice from 1-4'))\n",
    "\n",
    "if choice == 1:\n",
    "    print(\"The addition of num1 and num2 is\", num1 + num2)\n",
    "    \n",
    "elif choice == 2:\n",
    "    print(\"The Subtraction of num1 and num2 is\", num1 - num2)\n",
    "    \n",
    "elif choice == 3:\n",
    "    print(\"The Multiplication of num1 and num2 is\", num1 * num2)\n",
    "    \n",
    "elif choice == 4:\n",
    "    print(\"The Division of num1 and num2 is\", num1 / num2)\n",
    "    \n",
    "else:\n",
    "    print('Invalid Input')"
   ]
  },
  {
   "cell_type": "markdown",
   "id": "c0c37eff",
   "metadata": {},
   "source": [
    "###  THE END"
   ]
  }
 ],
 "metadata": {
  "kernelspec": {
   "display_name": "Python 3 (ipykernel)",
   "language": "python",
   "name": "python3"
  },
  "language_info": {
   "codemirror_mode": {
    "name": "ipython",
    "version": 3
   },
   "file_extension": ".py",
   "mimetype": "text/x-python",
   "name": "python",
   "nbconvert_exporter": "python",
   "pygments_lexer": "ipython3",
   "version": "3.9.13"
  }
 },
 "nbformat": 4,
 "nbformat_minor": 5
}
